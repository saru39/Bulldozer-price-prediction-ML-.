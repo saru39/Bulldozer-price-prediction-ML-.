{
 "cells": [
  {
   "cell_type": "code",
   "execution_count": 1,
   "id": "f435d9d9",
   "metadata": {},
   "outputs": [],
   "source": [
    "import pandas as pd\n",
    "import numpy as np\n",
    "import matplotlib.pyplot as plt\n",
    "%matplotlib inline\n",
    "import seaborn as sns"
   ]
  },
  {
   "cell_type": "code",
   "execution_count": 2,
   "id": "ec5f6f6e",
   "metadata": {},
   "outputs": [],
   "source": [
    "df=pd.read_csv(\"cleaned df2.csv\")"
   ]
  },
  {
   "cell_type": "code",
   "execution_count": 3,
   "id": "d3d5eab0",
   "metadata": {},
   "outputs": [
    {
     "data": {
      "text/html": [
       "<div>\n",
       "<style scoped>\n",
       "    .dataframe tbody tr th:only-of-type {\n",
       "        vertical-align: middle;\n",
       "    }\n",
       "\n",
       "    .dataframe tbody tr th {\n",
       "        vertical-align: top;\n",
       "    }\n",
       "\n",
       "    .dataframe thead th {\n",
       "        text-align: right;\n",
       "    }\n",
       "</style>\n",
       "<table border=\"1\" class=\"dataframe\">\n",
       "  <thead>\n",
       "    <tr style=\"text-align: right;\">\n",
       "      <th></th>\n",
       "      <th>Unnamed: 0</th>\n",
       "      <th>SalePrice</th>\n",
       "      <th>MachineID</th>\n",
       "      <th>ModelID</th>\n",
       "      <th>datasource</th>\n",
       "      <th>auctioneerID</th>\n",
       "      <th>YearMade</th>\n",
       "      <th>saledate</th>\n",
       "      <th>fiModelDesc</th>\n",
       "      <th>fiBaseModel</th>\n",
       "      <th>fiProductClassDesc</th>\n",
       "      <th>state</th>\n",
       "      <th>ProductGroup</th>\n",
       "      <th>ProductGroupDesc</th>\n",
       "      <th>Enclosure</th>\n",
       "      <th>Hydraulics</th>\n",
       "      <th>Date</th>\n",
       "      <th>Month</th>\n",
       "      <th>Year</th>\n",
       "      <th>Time</th>\n",
       "    </tr>\n",
       "  </thead>\n",
       "  <tbody>\n",
       "    <tr>\n",
       "      <th>0</th>\n",
       "      <td>0</td>\n",
       "      <td>66000</td>\n",
       "      <td>999089</td>\n",
       "      <td>3157</td>\n",
       "      <td>121</td>\n",
       "      <td>3.0</td>\n",
       "      <td>2004.0</td>\n",
       "      <td>2006-11-16</td>\n",
       "      <td>521D</td>\n",
       "      <td>521</td>\n",
       "      <td>Wheel Loader - 110.0 to 120.0 Horsepower</td>\n",
       "      <td>Alabama</td>\n",
       "      <td>WL</td>\n",
       "      <td>Wheel Loader</td>\n",
       "      <td>EROPS w AC</td>\n",
       "      <td>2 Valve</td>\n",
       "      <td>2006-11-16</td>\n",
       "      <td>11</td>\n",
       "      <td>2006</td>\n",
       "      <td>00:00:00</td>\n",
       "    </tr>\n",
       "    <tr>\n",
       "      <th>1</th>\n",
       "      <td>1</td>\n",
       "      <td>57000</td>\n",
       "      <td>117657</td>\n",
       "      <td>77</td>\n",
       "      <td>121</td>\n",
       "      <td>3.0</td>\n",
       "      <td>1996.0</td>\n",
       "      <td>2004-03-26</td>\n",
       "      <td>950FII</td>\n",
       "      <td>950</td>\n",
       "      <td>Wheel Loader - 150.0 to 175.0 Horsepower</td>\n",
       "      <td>North Carolina</td>\n",
       "      <td>WL</td>\n",
       "      <td>Wheel Loader</td>\n",
       "      <td>EROPS w AC</td>\n",
       "      <td>2 Valve</td>\n",
       "      <td>2004-03-26</td>\n",
       "      <td>3</td>\n",
       "      <td>2004</td>\n",
       "      <td>00:00:00</td>\n",
       "    </tr>\n",
       "    <tr>\n",
       "      <th>2</th>\n",
       "      <td>2</td>\n",
       "      <td>10000</td>\n",
       "      <td>434808</td>\n",
       "      <td>7009</td>\n",
       "      <td>121</td>\n",
       "      <td>3.0</td>\n",
       "      <td>2001.0</td>\n",
       "      <td>2004-02-26</td>\n",
       "      <td>226</td>\n",
       "      <td>226</td>\n",
       "      <td>Skid Steer Loader - 1351.0 to 1601.0 Lb Operat...</td>\n",
       "      <td>New York</td>\n",
       "      <td>SSL</td>\n",
       "      <td>Skid Steer Loaders</td>\n",
       "      <td>OROPS</td>\n",
       "      <td>Auxiliary</td>\n",
       "      <td>2004-02-26</td>\n",
       "      <td>2</td>\n",
       "      <td>2004</td>\n",
       "      <td>00:00:00</td>\n",
       "    </tr>\n",
       "    <tr>\n",
       "      <th>3</th>\n",
       "      <td>3</td>\n",
       "      <td>38500</td>\n",
       "      <td>1026470</td>\n",
       "      <td>332</td>\n",
       "      <td>121</td>\n",
       "      <td>3.0</td>\n",
       "      <td>2001.0</td>\n",
       "      <td>2011-05-19</td>\n",
       "      <td>PC120-6E</td>\n",
       "      <td>PC120</td>\n",
       "      <td>Hydraulic Excavator, Track - 12.0 to 14.0 Metr...</td>\n",
       "      <td>Texas</td>\n",
       "      <td>TEX</td>\n",
       "      <td>Track Excavators</td>\n",
       "      <td>EROPS w AC</td>\n",
       "      <td>2 Valve</td>\n",
       "      <td>2011-05-19</td>\n",
       "      <td>5</td>\n",
       "      <td>2011</td>\n",
       "      <td>00:00:00</td>\n",
       "    </tr>\n",
       "    <tr>\n",
       "      <th>4</th>\n",
       "      <td>4</td>\n",
       "      <td>11000</td>\n",
       "      <td>1057373</td>\n",
       "      <td>17311</td>\n",
       "      <td>121</td>\n",
       "      <td>3.0</td>\n",
       "      <td>2007.0</td>\n",
       "      <td>2009-07-23</td>\n",
       "      <td>S175</td>\n",
       "      <td>S175</td>\n",
       "      <td>Skid Steer Loader - 1601.0 to 1751.0 Lb Operat...</td>\n",
       "      <td>New York</td>\n",
       "      <td>SSL</td>\n",
       "      <td>Skid Steer Loaders</td>\n",
       "      <td>EROPS</td>\n",
       "      <td>Auxiliary</td>\n",
       "      <td>2009-07-23</td>\n",
       "      <td>7</td>\n",
       "      <td>2009</td>\n",
       "      <td>00:00:00</td>\n",
       "    </tr>\n",
       "    <tr>\n",
       "      <th>...</th>\n",
       "      <td>...</td>\n",
       "      <td>...</td>\n",
       "      <td>...</td>\n",
       "      <td>...</td>\n",
       "      <td>...</td>\n",
       "      <td>...</td>\n",
       "      <td>...</td>\n",
       "      <td>...</td>\n",
       "      <td>...</td>\n",
       "      <td>...</td>\n",
       "      <td>...</td>\n",
       "      <td>...</td>\n",
       "      <td>...</td>\n",
       "      <td>...</td>\n",
       "      <td>...</td>\n",
       "      <td>...</td>\n",
       "      <td>...</td>\n",
       "      <td>...</td>\n",
       "      <td>...</td>\n",
       "      <td>...</td>\n",
       "    </tr>\n",
       "    <tr>\n",
       "      <th>401120</th>\n",
       "      <td>401120</td>\n",
       "      <td>10500</td>\n",
       "      <td>1840702</td>\n",
       "      <td>21439</td>\n",
       "      <td>149</td>\n",
       "      <td>1.0</td>\n",
       "      <td>2005.0</td>\n",
       "      <td>2011-11-02</td>\n",
       "      <td>35NX2</td>\n",
       "      <td>35</td>\n",
       "      <td>Hydraulic Excavator, Track - 3.0 to 4.0 Metric...</td>\n",
       "      <td>Maryland</td>\n",
       "      <td>TEX</td>\n",
       "      <td>Track Excavators</td>\n",
       "      <td>EROPS</td>\n",
       "      <td>Auxiliary</td>\n",
       "      <td>2011-11-02</td>\n",
       "      <td>11</td>\n",
       "      <td>2011</td>\n",
       "      <td>00:00:00</td>\n",
       "    </tr>\n",
       "    <tr>\n",
       "      <th>401121</th>\n",
       "      <td>401121</td>\n",
       "      <td>11000</td>\n",
       "      <td>1830472</td>\n",
       "      <td>21439</td>\n",
       "      <td>149</td>\n",
       "      <td>1.0</td>\n",
       "      <td>2005.0</td>\n",
       "      <td>2011-11-02</td>\n",
       "      <td>35NX2</td>\n",
       "      <td>35</td>\n",
       "      <td>Hydraulic Excavator, Track - 3.0 to 4.0 Metric...</td>\n",
       "      <td>Maryland</td>\n",
       "      <td>TEX</td>\n",
       "      <td>Track Excavators</td>\n",
       "      <td>EROPS</td>\n",
       "      <td>Standard</td>\n",
       "      <td>2011-11-02</td>\n",
       "      <td>11</td>\n",
       "      <td>2011</td>\n",
       "      <td>00:00:00</td>\n",
       "    </tr>\n",
       "    <tr>\n",
       "      <th>401122</th>\n",
       "      <td>401122</td>\n",
       "      <td>11500</td>\n",
       "      <td>1887659</td>\n",
       "      <td>21439</td>\n",
       "      <td>149</td>\n",
       "      <td>1.0</td>\n",
       "      <td>2005.0</td>\n",
       "      <td>2011-11-02</td>\n",
       "      <td>35NX2</td>\n",
       "      <td>35</td>\n",
       "      <td>Hydraulic Excavator, Track - 3.0 to 4.0 Metric...</td>\n",
       "      <td>Maryland</td>\n",
       "      <td>TEX</td>\n",
       "      <td>Track Excavators</td>\n",
       "      <td>EROPS</td>\n",
       "      <td>Auxiliary</td>\n",
       "      <td>2011-11-02</td>\n",
       "      <td>11</td>\n",
       "      <td>2011</td>\n",
       "      <td>00:00:00</td>\n",
       "    </tr>\n",
       "    <tr>\n",
       "      <th>401123</th>\n",
       "      <td>401123</td>\n",
       "      <td>9000</td>\n",
       "      <td>1903570</td>\n",
       "      <td>21435</td>\n",
       "      <td>149</td>\n",
       "      <td>2.0</td>\n",
       "      <td>2005.0</td>\n",
       "      <td>2011-10-25</td>\n",
       "      <td>30NX</td>\n",
       "      <td>30</td>\n",
       "      <td>Hydraulic Excavator, Track - 2.0 to 3.0 Metric...</td>\n",
       "      <td>Florida</td>\n",
       "      <td>TEX</td>\n",
       "      <td>Track Excavators</td>\n",
       "      <td>EROPS</td>\n",
       "      <td>Standard</td>\n",
       "      <td>2011-10-25</td>\n",
       "      <td>10</td>\n",
       "      <td>2011</td>\n",
       "      <td>00:00:00</td>\n",
       "    </tr>\n",
       "    <tr>\n",
       "      <th>401124</th>\n",
       "      <td>401124</td>\n",
       "      <td>7750</td>\n",
       "      <td>1926965</td>\n",
       "      <td>21435</td>\n",
       "      <td>149</td>\n",
       "      <td>2.0</td>\n",
       "      <td>2005.0</td>\n",
       "      <td>2011-10-25</td>\n",
       "      <td>30NX</td>\n",
       "      <td>30</td>\n",
       "      <td>Hydraulic Excavator, Track - 2.0 to 3.0 Metric...</td>\n",
       "      <td>Florida</td>\n",
       "      <td>TEX</td>\n",
       "      <td>Track Excavators</td>\n",
       "      <td>EROPS</td>\n",
       "      <td>Standard</td>\n",
       "      <td>2011-10-25</td>\n",
       "      <td>10</td>\n",
       "      <td>2011</td>\n",
       "      <td>00:00:00</td>\n",
       "    </tr>\n",
       "  </tbody>\n",
       "</table>\n",
       "<p>401125 rows × 20 columns</p>\n",
       "</div>"
      ],
      "text/plain": [
       "        Unnamed: 0  SalePrice  MachineID  ModelID  datasource  auctioneerID  \\\n",
       "0                0      66000     999089     3157         121           3.0   \n",
       "1                1      57000     117657       77         121           3.0   \n",
       "2                2      10000     434808     7009         121           3.0   \n",
       "3                3      38500    1026470      332         121           3.0   \n",
       "4                4      11000    1057373    17311         121           3.0   \n",
       "...            ...        ...        ...      ...         ...           ...   \n",
       "401120      401120      10500    1840702    21439         149           1.0   \n",
       "401121      401121      11000    1830472    21439         149           1.0   \n",
       "401122      401122      11500    1887659    21439         149           1.0   \n",
       "401123      401123       9000    1903570    21435         149           2.0   \n",
       "401124      401124       7750    1926965    21435         149           2.0   \n",
       "\n",
       "        YearMade    saledate fiModelDesc fiBaseModel  \\\n",
       "0         2004.0  2006-11-16        521D         521   \n",
       "1         1996.0  2004-03-26      950FII         950   \n",
       "2         2001.0  2004-02-26         226         226   \n",
       "3         2001.0  2011-05-19    PC120-6E       PC120   \n",
       "4         2007.0  2009-07-23        S175        S175   \n",
       "...          ...         ...         ...         ...   \n",
       "401120    2005.0  2011-11-02       35NX2          35   \n",
       "401121    2005.0  2011-11-02       35NX2          35   \n",
       "401122    2005.0  2011-11-02       35NX2          35   \n",
       "401123    2005.0  2011-10-25        30NX          30   \n",
       "401124    2005.0  2011-10-25        30NX          30   \n",
       "\n",
       "                                       fiProductClassDesc           state  \\\n",
       "0                Wheel Loader - 110.0 to 120.0 Horsepower         Alabama   \n",
       "1                Wheel Loader - 150.0 to 175.0 Horsepower  North Carolina   \n",
       "2       Skid Steer Loader - 1351.0 to 1601.0 Lb Operat...        New York   \n",
       "3       Hydraulic Excavator, Track - 12.0 to 14.0 Metr...           Texas   \n",
       "4       Skid Steer Loader - 1601.0 to 1751.0 Lb Operat...        New York   \n",
       "...                                                   ...             ...   \n",
       "401120  Hydraulic Excavator, Track - 3.0 to 4.0 Metric...        Maryland   \n",
       "401121  Hydraulic Excavator, Track - 3.0 to 4.0 Metric...        Maryland   \n",
       "401122  Hydraulic Excavator, Track - 3.0 to 4.0 Metric...        Maryland   \n",
       "401123  Hydraulic Excavator, Track - 2.0 to 3.0 Metric...         Florida   \n",
       "401124  Hydraulic Excavator, Track - 2.0 to 3.0 Metric...         Florida   \n",
       "\n",
       "       ProductGroup    ProductGroupDesc   Enclosure Hydraulics        Date  \\\n",
       "0                WL        Wheel Loader  EROPS w AC    2 Valve  2006-11-16   \n",
       "1                WL        Wheel Loader  EROPS w AC    2 Valve  2004-03-26   \n",
       "2               SSL  Skid Steer Loaders       OROPS  Auxiliary  2004-02-26   \n",
       "3               TEX    Track Excavators  EROPS w AC    2 Valve  2011-05-19   \n",
       "4               SSL  Skid Steer Loaders       EROPS  Auxiliary  2009-07-23   \n",
       "...             ...                 ...         ...        ...         ...   \n",
       "401120          TEX    Track Excavators       EROPS  Auxiliary  2011-11-02   \n",
       "401121          TEX    Track Excavators       EROPS   Standard  2011-11-02   \n",
       "401122          TEX    Track Excavators       EROPS  Auxiliary  2011-11-02   \n",
       "401123          TEX    Track Excavators       EROPS   Standard  2011-10-25   \n",
       "401124          TEX    Track Excavators       EROPS   Standard  2011-10-25   \n",
       "\n",
       "        Month  Year      Time  \n",
       "0          11  2006  00:00:00  \n",
       "1           3  2004  00:00:00  \n",
       "2           2  2004  00:00:00  \n",
       "3           5  2011  00:00:00  \n",
       "4           7  2009  00:00:00  \n",
       "...       ...   ...       ...  \n",
       "401120     11  2011  00:00:00  \n",
       "401121     11  2011  00:00:00  \n",
       "401122     11  2011  00:00:00  \n",
       "401123     10  2011  00:00:00  \n",
       "401124     10  2011  00:00:00  \n",
       "\n",
       "[401125 rows x 20 columns]"
      ]
     },
     "execution_count": 3,
     "metadata": {},
     "output_type": "execute_result"
    }
   ],
   "source": [
    "df"
   ]
  },
  {
   "cell_type": "markdown",
   "id": "8ff3eb10",
   "metadata": {},
   "source": [
    "df"
   ]
  },
  {
   "cell_type": "code",
   "execution_count": 4,
   "id": "de12e207",
   "metadata": {},
   "outputs": [],
   "source": [
    "X=df[['YearMade','ModelID','datasource','auctioneerID','Month','Year','ProductGroup','ProductGroupDesc']]\n",
    "y=df[['SalePrice']]"
   ]
  },
  {
   "cell_type": "code",
   "execution_count": 5,
   "id": "47102e55",
   "metadata": {},
   "outputs": [],
   "source": [
    "from sklearn.model_selection import train_test_split\n",
    "X_train, X_test, y_train, y_test = train_test_split(X, y, test_size=1/3, random_state=0)"
   ]
  },
  {
   "cell_type": "code",
   "execution_count": 6,
   "id": "16e4439b",
   "metadata": {},
   "outputs": [],
   "source": [
    "from sklearn.linear_model import LinearRegression\n",
    "from sklearn.metrics import mean_squared_error, r2_score\n",
    "from sklearn.preprocessing import OneHotEncoder\n",
    "from sklearn.compose import make_column_transformer\n",
    "from sklearn.pipeline import make_pipeline"
   ]
  },
  {
   "cell_type": "code",
   "execution_count": 7,
   "id": "75427f8d",
   "metadata": {},
   "outputs": [
    {
     "data": {
      "text/plain": [
       "OneHotEncoder()"
      ]
     },
     "execution_count": 7,
     "metadata": {},
     "output_type": "execute_result"
    }
   ],
   "source": [
    "ohe=OneHotEncoder()\n",
    "ohe.fit(X[['YearMade','ModelID','datasource','auctioneerID','Month','Year','ProductGroup','ProductGroupDesc']])"
   ]
  },
  {
   "cell_type": "code",
   "execution_count": 8,
   "id": "c33c8d53",
   "metadata": {},
   "outputs": [
    {
     "data": {
      "text/plain": [
       "[array([1971.        , 1972.        , 1973.        , 1974.        ,\n",
       "        1975.        , 1976.        , 1977.        , 1978.        ,\n",
       "        1979.        , 1980.        , 1981.        , 1982.        ,\n",
       "        1983.        , 1984.        , 1985.        , 1986.        ,\n",
       "        1987.        , 1988.        , 1989.        , 1990.        ,\n",
       "        1991.        , 1992.        , 1993.        , 1994.        ,\n",
       "        1994.38340979, 1995.        , 1996.        , 1997.        ,\n",
       "        1998.        , 1999.        , 2000.        , 2001.        ,\n",
       "        2002.        , 2003.        , 2004.        , 2005.        ,\n",
       "        2006.        , 2007.        , 2008.        , 2009.        ,\n",
       "        2010.        , 2011.        , 2012.        , 2013.        ]),\n",
       " array([   28,    29,    31, ..., 37196, 37197, 37198], dtype=int64),\n",
       " array([121, 132, 136, 149, 172], dtype=int64),\n",
       " array([1.        , 1.68394446, 2.        , 3.        , 4.        ,\n",
       "        5.        ]),\n",
       " array([ 1,  2,  3,  4,  5,  6,  7,  8,  9, 10, 11, 12], dtype=int64),\n",
       " array([1989, 1990, 1991, 1992, 1993, 1994, 1995, 1996, 1997, 1998, 1999,\n",
       "        2000, 2001, 2002, 2003, 2004, 2005, 2006, 2007, 2008, 2009, 2010,\n",
       "        2011], dtype=int64),\n",
       " array(['BL', 'MG', 'SSL', 'TEX', 'TTT', 'WL'], dtype=object),\n",
       " array(['Backhoe Loaders', 'Motor Graders', 'Skid Steer Loaders',\n",
       "        'Track Excavators', 'Track Type Tractors', 'Wheel Loader'],\n",
       "       dtype=object)]"
      ]
     },
     "execution_count": 8,
     "metadata": {},
     "output_type": "execute_result"
    }
   ],
   "source": [
    "ohe.categories_"
   ]
  },
  {
   "cell_type": "code",
   "execution_count": 9,
   "id": "e6835a67",
   "metadata": {},
   "outputs": [],
   "source": [
    "column_trans=make_column_transformer((OneHotEncoder(categories=ohe.categories_ ),['YearMade','ModelID','datasource','auctioneerID','Month','Year','ProductGroup','ProductGroupDesc']),\n",
    "                                    remainder='passthrough')"
   ]
  },
  {
   "cell_type": "code",
   "execution_count": 10,
   "id": "39971117",
   "metadata": {},
   "outputs": [],
   "source": [
    "lr=LinearRegression()"
   ]
  },
  {
   "cell_type": "code",
   "execution_count": 11,
   "id": "af5998da",
   "metadata": {},
   "outputs": [],
   "source": [
    "pipe=make_pipeline(column_trans,lr)"
   ]
  },
  {
   "cell_type": "code",
   "execution_count": 12,
   "id": "672a6731",
   "metadata": {},
   "outputs": [
    {
     "data": {
      "text/plain": [
       "Pipeline(steps=[('columntransformer',\n",
       "                 ColumnTransformer(remainder='passthrough',\n",
       "                                   transformers=[('onehotencoder',\n",
       "                                                  OneHotEncoder(categories=[array([1971.        , 1972.        , 1973.        , 1974.        ,\n",
       "       1975.        , 1976.        , 1977.        , 1978.        ,\n",
       "       1979.        , 1980.        , 1981.        , 1982.        ,\n",
       "       1983.        , 1984.        , 1985.        , 1986.        ,\n",
       "       1987.        , 1988.        , 1989.        , 1990.        ,\n",
       "       1991.        , 1992.        , 1993.        , 1994.        ,\n",
       "       1994.38340979, 1995.        , 1996.        , 1997.        ,\n",
       "       1998.        , 1999.        , 2000.        , 2001.        ,\n",
       "       2002.        , 2...\n",
       "       2000, 2001, 2002, 2003, 2004, 2005, 2006, 2007, 2008, 2009, 2010,\n",
       "       2011], dtype=int64),\n",
       "                                                                            array(['BL', 'MG', 'SSL', 'TEX', 'TTT', 'WL'], dtype=object),\n",
       "                                                                            array(['Backhoe Loaders', 'Motor Graders', 'Skid Steer Loaders',\n",
       "       'Track Excavators', 'Track Type Tractors', 'Wheel Loader'],\n",
       "      dtype=object)]),\n",
       "                                                  ['YearMade', 'ModelID',\n",
       "                                                   'datasource', 'auctioneerID',\n",
       "                                                   'Month', 'Year',\n",
       "                                                   'ProductGroup',\n",
       "                                                   'ProductGroupDesc'])])),\n",
       "                ('linearregression', LinearRegression())])"
      ]
     },
     "execution_count": 12,
     "metadata": {},
     "output_type": "execute_result"
    }
   ],
   "source": [
    "pipe.fit(X_train,y_train)"
   ]
  },
  {
   "cell_type": "code",
   "execution_count": 15,
   "id": "ba92c7f2",
   "metadata": {},
   "outputs": [],
   "source": [
    "y_pred=pipe.predict(X_test)"
   ]
  },
  {
   "cell_type": "code",
   "execution_count": 16,
   "id": "a8a9f420",
   "metadata": {},
   "outputs": [
    {
     "data": {
      "text/plain": [
       "0.8096369904298646"
      ]
     },
     "execution_count": 16,
     "metadata": {},
     "output_type": "execute_result"
    }
   ],
   "source": [
    "r2_score(y_test,y_pred)"
   ]
  },
  {
   "cell_type": "code",
   "execution_count": 18,
   "id": "51992646",
   "metadata": {},
   "outputs": [],
   "source": [
    "scores=[]\n",
    "for i in range(10):\n",
    "    X_train,X_test,y_train,y_test=train_test_split(X,y,test_size=0.2,random_state=i)\n",
    "    lr=LinearRegression()\n",
    "    pipe=make_pipeline(column_trans,lr)\n",
    "    pipe.fit(X_train,y_train)\n",
    "    y_pred=pipe.predict(X_test)\n",
    "    scores.append(r2_score(y_test,y_pred))"
   ]
  },
  {
   "cell_type": "code",
   "execution_count": 19,
   "id": "233826b7",
   "metadata": {},
   "outputs": [
    {
     "data": {
      "text/plain": [
       "1"
      ]
     },
     "execution_count": 19,
     "metadata": {},
     "output_type": "execute_result"
    }
   ],
   "source": [
    "np.argmax(scores)"
   ]
  },
  {
   "cell_type": "code",
   "execution_count": 20,
   "id": "cb3635a4",
   "metadata": {},
   "outputs": [
    {
     "data": {
      "text/plain": [
       "0.8109381386613198"
      ]
     },
     "execution_count": 20,
     "metadata": {},
     "output_type": "execute_result"
    }
   ],
   "source": [
    "scores[np.argmax(scores)]"
   ]
  },
  {
   "cell_type": "code",
   "execution_count": 21,
   "id": "e4f86c82",
   "metadata": {},
   "outputs": [
    {
     "data": {
      "text/plain": [
       "0.8109381386613198"
      ]
     },
     "execution_count": 21,
     "metadata": {},
     "output_type": "execute_result"
    }
   ],
   "source": [
    "X_train,X_test,y_train,y_test=train_test_split(X,y,test_size=0.2,random_state=np.argmax(scores))\n",
    "lr=LinearRegression()\n",
    "pipe=make_pipeline(column_trans,lr)\n",
    "pipe.fit(X_train,y_train)\n",
    "y_pred=pipe.predict(X_test)\n",
    "r2_score(y_test,y_pred)"
   ]
  },
  {
   "cell_type": "code",
   "execution_count": 22,
   "id": "3def9bc5",
   "metadata": {},
   "outputs": [],
   "source": [
    "import pickle"
   ]
  },
  {
   "cell_type": "code",
   "execution_count": 23,
   "id": "999b2165",
   "metadata": {},
   "outputs": [],
   "source": [
    "pickle.dump(pipe,open(\"LinearRegression.pk1\",\"wb\"))"
   ]
  },
  {
   "cell_type": "code",
   "execution_count": 26,
   "id": "4fe44c7f",
   "metadata": {},
   "outputs": [
    {
     "data": {
      "text/plain": [
       "array([[15845.00996602]])"
      ]
     },
     "execution_count": 26,
     "metadata": {},
     "output_type": "execute_result"
    }
   ],
   "source": [
    "pipe.predict(pd.DataFrame([[2001.0,7009,121,3.0,2,2004,'SSL','Skid Steer Loaders']],columns=['YearMade','ModelID','datasource','auctioneerID','Month','Year','ProductGroup','ProductGroupDesc']))"
   ]
  },
  {
   "cell_type": "code",
   "execution_count": null,
   "id": "db9b26c5",
   "metadata": {},
   "outputs": [],
   "source": []
  }
 ],
 "metadata": {
  "kernelspec": {
   "display_name": "Python 3 (ipykernel)",
   "language": "python",
   "name": "python3"
  },
  "language_info": {
   "codemirror_mode": {
    "name": "ipython",
    "version": 3
   },
   "file_extension": ".py",
   "mimetype": "text/x-python",
   "name": "python",
   "nbconvert_exporter": "python",
   "pygments_lexer": "ipython3",
   "version": "3.9.13"
  }
 },
 "nbformat": 4,
 "nbformat_minor": 5
}
